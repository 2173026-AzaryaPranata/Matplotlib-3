{
 "cells": [
  {
   "cell_type": "code",
   "execution_count": null,
   "id": "14c234bf",
   "metadata": {},
   "outputs": [],
   "source": [
    "%maplotlib inline"
   ]
  },
  {
   "cell_type": "code",
   "execution_count": null,
   "id": "be3e08f5",
   "metadata": {},
   "outputs": [],
   "source": [
    "import maplotlib\n",
    "import matplotlib.pylot as plt\n",
    "import numpy as np\n",
    "\n",
    "print(maplotlib.__version__)\n",
    "print(bp.__version__)"
   ]
  },
  {
   "cell_type": "code",
   "execution_count": null,
   "id": "db31cc1a",
   "metadata": {},
   "outputs": [],
   "source": [
    "x= np.arange(0.0, 2.0, 0.01)\n",
    "x"
   ]
  },
  {
   "cell_type": "code",
   "execution_count": null,
   "id": "478f7e15",
   "metadata": {},
   "outputs": [],
   "source": [
    "s = np.sin(2*np.pi*x)\n",
    "s"
   ]
  },
  {
   "cell_type": "code",
   "execution_count": null,
   "id": "049d05d4",
   "metadata": {},
   "outputs": [],
   "source": [
    "flg,ax=pltsubplots() # 00 Style\n",
    "\n",
    "ax.plot(x,s)\n",
    "ax.set(xlabel='nilai x'\n",
    "      ylabel=n'nilai sin(x)',\n",
    "      title='Visualisasi nilai sin')\n",
    "ax.grid()\n",
    "\n",
    "plt.show()"
   ]
  },
  {
   "cell_type": "code",
   "execution_count": null,
   "id": "cbd06d5e",
   "metadata": {},
   "outputs": [],
   "source": [
    "x1= np.linspace(0.0, 5.0, 100)\n",
    "x2= np.linspace(0.0, 2.0, 100)\n",
    "\n",
    "y1=np.cos(2*np.pi*x1)\n",
    "y2=np.cos(2*np.pi*x2)"
   ]
  },
  {
   "cell_type": "code",
   "execution_count": null,
   "id": "fa53564b",
   "metadata": {},
   "outputs": [],
   "source": [
    "flg,(ax1,ax2) =plt.subplots(2, 1)\n",
    "\n",
    "ax1.plot(x1, y1, 'ro-')\n",
    "ax1.set_ylabel('Nilai cos(x1)')\n",
    "\n",
    "ax2.plot(x2,y2,'g.-')\n",
    "ax2.set_ylabel('Nilai cos(x2)')\n",
    "ax2.set_xlabel('Nilai x')\n",
    "\n",
    "plt.show()"
   ]
  },
  {
   "cell_type": "code",
   "execution_count": null,
   "id": "af5d7702",
   "metadata": {},
   "outputs": [],
   "source": [
    "mu, sigma= 100 , 15 # nilai mean dan nilai standard deviation\n",
    "\n",
    "x=mu+sigma*np.random.radn(10000) #norma distribution\n",
    "x"
   ]
  },
  {
   "cell_type": "code",
   "execution_count": null,
   "id": "92fa3bfc",
   "metadata": {},
   "outputs": [],
   "source": [
    "x.shape"
   ]
  },
  {
   "cell_type": "code",
   "execution_count": null,
   "id": "203d6f9d",
   "metadata": {},
   "outputs": [],
   "source": [
    "plt.hist(x\n",
    "        bins=50,\n",
    "        facecolor='g',\n",
    "        alpha=0.75)\n",
    "\n",
    "plt.xlabel('Sumbu X')\n",
    "plt.ylabel('Sumbu Y')\n",
    "plt.titletoh Histogram')\n",
    "\n",
    "plt.text(45, 500, r'$\\u=100, \\ \\sigma=15$')\n",
    "plt.grid\n",
    "\n",
    "plt.show()"
   ]
  }
 ],
 "metadata": {
  "kernelspec": {
   "display_name": "Python 3 (ipykernel)",
   "language": "python",
   "name": "python3"
  },
  "language_info": {
   "codemirror_mode": {
    "name": "ipython",
    "version": 3
   },
   "file_extension": ".py",
   "mimetype": "text/x-python",
   "name": "python",
   "nbconvert_exporter": "python",
   "pygments_lexer": "ipython3",
   "version": "3.10.7"
  }
 },
 "nbformat": 4,
 "nbformat_minor": 5
}
